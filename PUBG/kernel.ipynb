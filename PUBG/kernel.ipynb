{
 "cells": [
  {
   "cell_type": "code",
   "execution_count": 1,
   "metadata": {
    "_cell_guid": "b1076dfc-b9ad-4769-8c92-a6c4dae69d19",
    "_uuid": "8f2839f25d086af736a60e9eeb907d3b93b6e0e5"
   },
   "outputs": [],
   "source": [
    "import numpy as np # linear algebra\n",
    "import pandas as pd # data processing, CSV file I/O (e.g. pd.read_csv)\n",
    "\n",
    "#Imports\n",
    "import itertools\n",
    "import pickle\n",
    "\n",
    "from sklearn.preprocessing import OneHotEncoder, LabelEncoder\n",
    "from sklearn.svm import SVR\n",
    "from sklearn.ensemble import RandomForestRegressor, AdaBoostRegressor\n",
    "from sklearn.neighbors import KNeighborsRegressor\n",
    "from sklearn.metrics import mean_squared_error, mean_absolute_error\n",
    "from sklearn.model_selection import train_test_split, RandomizedSearchCV, KFold\n",
    "from sklearn.linear_model import SGDRegressor\n",
    "from sklearn.pipeline import Pipeline\n",
    "from sklearn.decomposition import PCA\n",
    "\n",
    "import matplotlib.pyplot as plt\n",
    "import seaborn as sns"
   ]
  },
  {
   "cell_type": "markdown",
   "metadata": {
    "_uuid": "53277084ba5ea1db2077c3d2c40fcaa81bacc23b"
   },
   "source": [
    "# 0) Load\n",
    "---"
   ]
  },
  {
   "cell_type": "code",
   "execution_count": 2,
   "metadata": {
    "_cell_guid": "79c7e3d0-c299-4dcb-8224-4455121ee9b0",
    "_uuid": "d629ff2d2480ee46fbb7e2d37f6b5fab8052498a"
   },
   "outputs": [],
   "source": [
    "folder = '/home/lgriffin/Documents/Jupyter/Kaggle/Data/PUBG/'\n",
    "\n",
    "training_set = pd.read_csv(folder+'train_V2.csv')\n",
    "test_set = pd.read_csv(folder+'test_V2.csv')\n",
    "sample = pd.read_csv(folder+'sample_submission_V2.csv')"
   ]
  },
  {
   "cell_type": "markdown",
   "metadata": {
    "_uuid": "3ee8acd81635efcf98f42f1676d53f182614f7e1"
   },
   "source": [
    "# 1) Feature Engineering\n",
    "***"
   ]
  },
  {
   "cell_type": "code",
   "execution_count": 3,
   "metadata": {},
   "outputs": [
    {
     "name": "stdout",
     "output_type": "stream",
     "text": [
      "Features: \n",
      "['Id' 'groupId' 'matchId' 'assists' 'boosts' 'damageDealt' 'DBNOs'\n",
      " 'headshotKills' 'heals' 'killPlace' 'killPoints' 'kills' 'killStreaks'\n",
      " 'longestKill' 'matchDuration' 'matchType' 'maxPlace' 'numGroups'\n",
      " 'rankPoints' 'revives' 'rideDistance' 'roadKills' 'swimDistance'\n",
      " 'teamKills' 'vehicleDestroys' 'walkDistance' 'weaponsAcquired'\n",
      " 'winPoints' 'winPlacePerc']\n"
     ]
    }
   ],
   "source": [
    "print('Features: ')\n",
    "print(training_set.columns.values)"
   ]
  },
  {
   "cell_type": "markdown",
   "metadata": {},
   "source": [
    ">## a) Create some new features"
   ]
  },
  {
   "cell_type": "code",
   "execution_count": 4,
   "metadata": {
    "_uuid": "8a86db45347a46929773c24eafb4490348930621"
   },
   "outputs": [],
   "source": [
    "#Strip fpp/tpp off of matchType\n",
    "def strip(row):    \n",
    "    if 'normal-' in row:\n",
    "        if '-fpp' in row:\n",
    "            return row[7:-4]\n",
    "        else:\n",
    "            return row[7:]\n",
    "    elif '-fpp' in row:\n",
    "        return row[:-4]\n",
    "    elif 'fpp' in row or 'tpp' in row:\n",
    "        return row[:-3]\n",
    "    else:\n",
    "        return row\n",
    "\n",
    "def create_features(dataframe):\n",
    "    #create a flag for fpp\n",
    "    dataframe['fppFlag'] = dataframe['matchType'].apply(lambda x: 1 if 'fpp' in x else 0)\n",
    "    \n",
    "    #create a players in match feature\n",
    "    dataframe['playersInMatch'] = dataframe.groupby('matchId')['matchId'].transform('count')\n",
    "    \n",
    "    #strip matchType\n",
    "    dataframe['matchTypeStriped'] = dataframe['matchType'].apply(strip)\n",
    "    \n",
    "    #create a flag to identify if the player has rank info\n",
    "    dataframe['hasRankData'] = dataframe['rankPoints'].apply(lambda x: 0 if x == -1 else 1)\n",
    "    \n",
    "    #remove the magic values\n",
    "    dataframe['rankPoints'] =  dataframe['rankPoints'].apply(lambda x: 0 if x == -1 else x)"
   ]
  },
  {
   "cell_type": "markdown",
   "metadata": {},
   "source": [
    "> ## b) Encode matchType"
   ]
  },
  {
   "cell_type": "code",
   "execution_count": 5,
   "metadata": {
    "_uuid": "3c0231ab7d5b80dd76d23738095877846b807b24"
   },
   "outputs": [],
   "source": [
    "#Call strip and encode match type\n",
    "def encode_matchtype(dataframe):\n",
    "    #Encode matchType\n",
    "    enc = OneHotEncoder(sparse=False)\n",
    "    label = LabelEncoder()\n",
    "    labeled_matchType = label.fit_transform(dataframe['matchTypeStriped'].values)\n",
    "    dataframe[['crash', 'duo', 'flare', 'solo', 'squad']] = \\\n",
    "        pd.DataFrame(enc.fit_transform(labeled_matchType.reshape(-1,1)), \n",
    "        columns=label.classes_, index=dataframe.index)\n"
   ]
  },
  {
   "cell_type": "code",
   "execution_count": 6,
   "metadata": {},
   "outputs": [],
   "source": [
    "create_features(training_set)\n",
    "encode_matchtype(training_set)\n",
    "train = training_set"
   ]
  },
  {
   "cell_type": "markdown",
   "metadata": {
    "_uuid": "11f4e105c35f46960fbfd23b6dd8ed395861dc8c"
   },
   "source": [
    "# 2) Inspect Data\n",
    "---"
   ]
  },
  {
   "cell_type": "markdown",
   "metadata": {},
   "source": [
    "> ## a) Check for nulls"
   ]
  },
  {
   "cell_type": "code",
   "execution_count": 7,
   "metadata": {},
   "outputs": [
    {
     "data": {
      "text/html": [
       "<div>\n",
       "<style scoped>\n",
       "    .dataframe tbody tr th:only-of-type {\n",
       "        vertical-align: middle;\n",
       "    }\n",
       "\n",
       "    .dataframe tbody tr th {\n",
       "        vertical-align: top;\n",
       "    }\n",
       "\n",
       "    .dataframe thead th {\n",
       "        text-align: right;\n",
       "    }\n",
       "</style>\n",
       "<table border=\"1\" class=\"dataframe\">\n",
       "  <thead>\n",
       "    <tr style=\"text-align: right;\">\n",
       "      <th></th>\n",
       "      <th>Id</th>\n",
       "      <th>groupId</th>\n",
       "      <th>matchId</th>\n",
       "      <th>assists</th>\n",
       "      <th>boosts</th>\n",
       "      <th>damageDealt</th>\n",
       "      <th>DBNOs</th>\n",
       "      <th>headshotKills</th>\n",
       "      <th>heals</th>\n",
       "      <th>killPlace</th>\n",
       "      <th>...</th>\n",
       "      <th>winPlacePerc</th>\n",
       "      <th>fppFlag</th>\n",
       "      <th>playersInMatch</th>\n",
       "      <th>matchTypeStriped</th>\n",
       "      <th>hasRankData</th>\n",
       "      <th>crash</th>\n",
       "      <th>duo</th>\n",
       "      <th>flare</th>\n",
       "      <th>solo</th>\n",
       "      <th>squad</th>\n",
       "    </tr>\n",
       "  </thead>\n",
       "  <tbody>\n",
       "    <tr>\n",
       "      <th>2744604</th>\n",
       "      <td>f70c74418bb064</td>\n",
       "      <td>12dfbede33f92b</td>\n",
       "      <td>224a123c53e008</td>\n",
       "      <td>0</td>\n",
       "      <td>0</td>\n",
       "      <td>0.0</td>\n",
       "      <td>0</td>\n",
       "      <td>0</td>\n",
       "      <td>0</td>\n",
       "      <td>1</td>\n",
       "      <td>...</td>\n",
       "      <td>NaN</td>\n",
       "      <td>1</td>\n",
       "      <td>1</td>\n",
       "      <td>solo</td>\n",
       "      <td>1</td>\n",
       "      <td>0.0</td>\n",
       "      <td>0.0</td>\n",
       "      <td>0.0</td>\n",
       "      <td>1.0</td>\n",
       "      <td>0.0</td>\n",
       "    </tr>\n",
       "  </tbody>\n",
       "</table>\n",
       "<p>1 rows × 38 columns</p>\n",
       "</div>"
      ],
      "text/plain": [
       "                     Id         groupId         matchId  assists  boosts  \\\n",
       "2744604  f70c74418bb064  12dfbede33f92b  224a123c53e008        0       0   \n",
       "\n",
       "         damageDealt  DBNOs  headshotKills  heals  killPlace  ...    \\\n",
       "2744604          0.0      0              0      0          1  ...     \n",
       "\n",
       "         winPlacePerc  fppFlag  playersInMatch  matchTypeStriped  hasRankData  \\\n",
       "2744604           NaN        1               1              solo            1   \n",
       "\n",
       "        crash  duo  flare  solo  squad  \n",
       "2744604   0.0  0.0    0.0   1.0    0.0  \n",
       "\n",
       "[1 rows x 38 columns]"
      ]
     },
     "execution_count": 7,
     "metadata": {},
     "output_type": "execute_result"
    }
   ],
   "source": [
    "#First step, any NaNs, etc.?\n",
    "train[train.isnull().any(axis=1)]"
   ]
  },
  {
   "cell_type": "code",
   "execution_count": 8,
   "metadata": {},
   "outputs": [],
   "source": [
    "#Yep, remove it\n",
    "train.drop(2744604, inplace=True)"
   ]
  },
  {
   "cell_type": "markdown",
   "metadata": {},
   "source": [
    ">## b) Get a subset"
   ]
  },
  {
   "cell_type": "code",
   "execution_count": 9,
   "metadata": {},
   "outputs": [],
   "source": [
    "# Get a small subset to make things easier/ make it run faster\n",
    "train.reindex(np.random.permutation(train.index))\n",
    "plot_subset = train.head(10000)"
   ]
  },
  {
   "cell_type": "markdown",
   "metadata": {},
   "source": [
    "> ## c) Check correlations"
   ]
  },
  {
   "cell_type": "code",
   "execution_count": 10,
   "metadata": {
    "_uuid": "2c10040ab94a6c8f9e5aa7ad73960a9f3fccf690",
    "scrolled": false
   },
   "outputs": [
    {
     "data": {
      "image/png": "[encoded data removed]",
      "text/plain": [
       "<matplotlib.figure.Figure at 0x7fd4daa0e0f0>"
      ]
     },
     "metadata": {},
     "output_type": "display_data"
    },
    {
     "name": "stdout",
     "output_type": "stream",
     "text": [
      "['winPlacePerc' 'walkDistance' 'killPlace' 'boosts' 'weaponsAcquired'\n",
      " 'damageDealt' 'kills' 'heals' 'longestKill' 'killStreaks' 'rideDistance'\n",
      " 'headshotKills' 'assists' 'DBNOs' 'revives' 'swimDistance'\n",
      " 'vehicleDestroys' 'squad' 'roadKills' 'numGroups' 'maxPlace' 'duo'\n",
      " 'rankPoints' 'solo' 'teamKills' 'hasRankData' 'fppFlag' 'crash'\n",
      " 'matchDuration' 'winPoints' 'playersInMatch' 'killPoints' 'flare']\n"
     ]
    }
   ],
   "source": [
    "#Start by looking at how the features are correlated with the target\n",
    "correlations = plot_subset.corr()['winPlacePerc']\n",
    "corr_mag_sign = pd.DataFrame(np.transpose([np.abs(correlations.values), correlations.apply(lambda x: 'Neg' if x<0 else 'Pos').values])\n",
    "                           , columns=['Mag','Sign'], index=correlations.index.values)\n",
    "corrs_ranked = corr_mag_sign.sort_values('Mag', ascending=False)\n",
    "corrs_ranked['x'] = np.arange(corrs_ranked.shape[0])\n",
    "\n",
    "fig = plt.figure(figsize=(15,6))\n",
    "ax = sns.scatterplot(x='x',y='Mag',hue='Sign', style='Sign', data=corrs_ranked, )\n",
    "plt.show()\n",
    "print(corrs_ranked.index.values)"
   ]
  },
  {
   "cell_type": "markdown",
   "metadata": {},
   "source": [
    "> ## d) Check the relationships"
   ]
  },
  {
   "cell_type": "code",
   "execution_count": 11,
   "metadata": {
    "_uuid": "d91c5542744d4e6cbe244c1426ad8d84cf5db5de",
    "scrolled": false
   },
   "outputs": [
    {
     "name": "stdout",
     "output_type": "stream",
     "text": [
      "Two components explain 99.1% of the variance:\n",
      "    Comp 1 explained variance:  68.76999054602149\n",
      "    Comp 2 explained variance:  30.479877414822287\n"
     ]
    },
    {
     "data": {
      "image/png": "[encoded data removed]",
      "text/plain": [
       "<matplotlib.figure.Figure at 0x7fd4f36f8da0>"
      ]
     },
     "metadata": {},
     "output_type": "display_data"
    }
   ],
   "source": [
    "#Lets start by looking at the most strongly correlated (top 16)\n",
    "features = corrs_ranked.index.values[1:17]\n",
    "target = 'winPlacePerc'\n",
    "\n",
    "#What do these relationships actually look like???\n",
    "#Use decomposition to view the data\n",
    "\n",
    "decomp = PCA(2)\n",
    "decomposed = decomp.fit_transform(plot_subset[features])\n",
    "print('Two components explain 99.1% of the variance:')\n",
    "print('    Comp 1 explained variance: ',decomp.explained_variance_ratio_[0]*100)\n",
    "print('    Comp 2 explained variance: ',decomp.explained_variance_ratio_[1]*100)\n",
    "\n",
    "fig = plt.figure(figsize=(8,8))\n",
    "ax = sns.scatterplot(x=decomposed[:,0], y=decomposed[:,1], hue=plot_subset[target], palette='Spectral')\n",
    "ax.set(xlabel='Comp 1', ylabel='Comp 2')\n",
    "plt.show()"
   ]
  },
  {
   "cell_type": "markdown",
   "metadata": {},
   "source": [
    "Looks pretty linear! This makes sense sense the .corr() uses the pearson method. Which is a measure of linear correlation."
   ]
  },
  {
   "cell_type": "markdown",
   "metadata": {},
   "source": [
    "> ## e) Scale Data"
   ]
  },
  {
   "cell_type": "code",
   "execution_count": 12,
   "metadata": {},
   "outputs": [
    {
     "data": {
      "text/html": [
       "<div>\n",
       "<style scoped>\n",
       "    .dataframe tbody tr th:only-of-type {\n",
       "        vertical-align: middle;\n",
       "    }\n",
       "\n",
       "    .dataframe tbody tr th {\n",
       "        vertical-align: top;\n",
       "    }\n",
       "\n",
       "    .dataframe thead th {\n",
       "        text-align: right;\n",
       "    }\n",
       "</style>\n",
       "<table border=\"1\" class=\"dataframe\">\n",
       "  <thead>\n",
       "    <tr style=\"text-align: right;\">\n",
       "      <th></th>\n",
       "      <th>walkDistance</th>\n",
       "      <th>killPlace</th>\n",
       "      <th>boosts</th>\n",
       "      <th>weaponsAcquired</th>\n",
       "      <th>damageDealt</th>\n",
       "      <th>kills</th>\n",
       "      <th>heals</th>\n",
       "      <th>longestKill</th>\n",
       "      <th>killStreaks</th>\n",
       "      <th>rideDistance</th>\n",
       "      <th>headshotKills</th>\n",
       "      <th>assists</th>\n",
       "      <th>DBNOs</th>\n",
       "      <th>revives</th>\n",
       "      <th>swimDistance</th>\n",
       "      <th>vehicleDestroys</th>\n",
       "    </tr>\n",
       "  </thead>\n",
       "  <tbody>\n",
       "    <tr>\n",
       "      <th>count</th>\n",
       "      <td>4.446965e+06</td>\n",
       "      <td>4.446965e+06</td>\n",
       "      <td>4.446965e+06</td>\n",
       "      <td>4.446965e+06</td>\n",
       "      <td>4.446965e+06</td>\n",
       "      <td>4.446965e+06</td>\n",
       "      <td>4.446965e+06</td>\n",
       "      <td>4.446965e+06</td>\n",
       "      <td>4.446965e+06</td>\n",
       "      <td>4.446965e+06</td>\n",
       "      <td>4.446965e+06</td>\n",
       "      <td>4.446965e+06</td>\n",
       "      <td>4.446965e+06</td>\n",
       "      <td>4.446965e+06</td>\n",
       "      <td>4.446965e+06</td>\n",
       "      <td>4.446965e+06</td>\n",
       "    </tr>\n",
       "    <tr>\n",
       "      <th>mean</th>\n",
       "      <td>1.154218e+03</td>\n",
       "      <td>4.759936e+01</td>\n",
       "      <td>1.106908e+00</td>\n",
       "      <td>3.660488e+00</td>\n",
       "      <td>1.307172e+02</td>\n",
       "      <td>9.247835e-01</td>\n",
       "      <td>1.370148e+00</td>\n",
       "      <td>2.299760e+01</td>\n",
       "      <td>5.439553e-01</td>\n",
       "      <td>6.061158e+02</td>\n",
       "      <td>2.268196e-01</td>\n",
       "      <td>2.338150e-01</td>\n",
       "      <td>6.578757e-01</td>\n",
       "      <td>1.646590e-01</td>\n",
       "      <td>4.509323e+00</td>\n",
       "      <td>7.918209e-03</td>\n",
       "    </tr>\n",
       "    <tr>\n",
       "      <th>std</th>\n",
       "      <td>1.183497e+03</td>\n",
       "      <td>2.746293e+01</td>\n",
       "      <td>1.715794e+00</td>\n",
       "      <td>2.456543e+00</td>\n",
       "      <td>1.707806e+02</td>\n",
       "      <td>1.558445e+00</td>\n",
       "      <td>2.679982e+00</td>\n",
       "      <td>5.097262e+01</td>\n",
       "      <td>7.109721e-01</td>\n",
       "      <td>1.498344e+03</td>\n",
       "      <td>6.021553e-01</td>\n",
       "      <td>5.885731e-01</td>\n",
       "      <td>1.145743e+00</td>\n",
       "      <td>4.721671e-01</td>\n",
       "      <td>3.050220e+01</td>\n",
       "      <td>9.261158e-02</td>\n",
       "    </tr>\n",
       "    <tr>\n",
       "      <th>min</th>\n",
       "      <td>0.000000e+00</td>\n",
       "      <td>1.000000e+00</td>\n",
       "      <td>0.000000e+00</td>\n",
       "      <td>0.000000e+00</td>\n",
       "      <td>0.000000e+00</td>\n",
       "      <td>0.000000e+00</td>\n",
       "      <td>0.000000e+00</td>\n",
       "      <td>0.000000e+00</td>\n",
       "      <td>0.000000e+00</td>\n",
       "      <td>0.000000e+00</td>\n",
       "      <td>0.000000e+00</td>\n",
       "      <td>0.000000e+00</td>\n",
       "      <td>0.000000e+00</td>\n",
       "      <td>0.000000e+00</td>\n",
       "      <td>0.000000e+00</td>\n",
       "      <td>0.000000e+00</td>\n",
       "    </tr>\n",
       "    <tr>\n",
       "      <th>25%</th>\n",
       "      <td>1.551000e+02</td>\n",
       "      <td>2.400000e+01</td>\n",
       "      <td>0.000000e+00</td>\n",
       "      <td>2.000000e+00</td>\n",
       "      <td>0.000000e+00</td>\n",
       "      <td>0.000000e+00</td>\n",
       "      <td>0.000000e+00</td>\n",
       "      <td>0.000000e+00</td>\n",
       "      <td>0.000000e+00</td>\n",
       "      <td>0.000000e+00</td>\n",
       "      <td>0.000000e+00</td>\n",
       "      <td>0.000000e+00</td>\n",
       "      <td>0.000000e+00</td>\n",
       "      <td>0.000000e+00</td>\n",
       "      <td>0.000000e+00</td>\n",
       "      <td>0.000000e+00</td>\n",
       "    </tr>\n",
       "    <tr>\n",
       "      <th>50%</th>\n",
       "      <td>6.856000e+02</td>\n",
       "      <td>4.700000e+01</td>\n",
       "      <td>0.000000e+00</td>\n",
       "      <td>3.000000e+00</td>\n",
       "      <td>8.424000e+01</td>\n",
       "      <td>0.000000e+00</td>\n",
       "      <td>0.000000e+00</td>\n",
       "      <td>0.000000e+00</td>\n",
       "      <td>0.000000e+00</td>\n",
       "      <td>0.000000e+00</td>\n",
       "      <td>0.000000e+00</td>\n",
       "      <td>0.000000e+00</td>\n",
       "      <td>0.000000e+00</td>\n",
       "      <td>0.000000e+00</td>\n",
       "      <td>0.000000e+00</td>\n",
       "      <td>0.000000e+00</td>\n",
       "    </tr>\n",
       "    <tr>\n",
       "      <th>75%</th>\n",
       "      <td>1.976000e+03</td>\n",
       "      <td>7.100000e+01</td>\n",
       "      <td>2.000000e+00</td>\n",
       "      <td>5.000000e+00</td>\n",
       "      <td>1.860000e+02</td>\n",
       "      <td>1.000000e+00</td>\n",
       "      <td>2.000000e+00</td>\n",
       "      <td>2.132000e+01</td>\n",
       "      <td>1.000000e+00</td>\n",
       "      <td>1.910000e-01</td>\n",
       "      <td>0.000000e+00</td>\n",
       "      <td>0.000000e+00</td>\n",
       "      <td>1.000000e+00</td>\n",
       "      <td>0.000000e+00</td>\n",
       "      <td>0.000000e+00</td>\n",
       "      <td>0.000000e+00</td>\n",
       "    </tr>\n",
       "    <tr>\n",
       "      <th>max</th>\n",
       "      <td>2.578000e+04</td>\n",
       "      <td>1.010000e+02</td>\n",
       "      <td>3.300000e+01</td>\n",
       "      <td>2.360000e+02</td>\n",
       "      <td>6.616000e+03</td>\n",
       "      <td>7.200000e+01</td>\n",
       "      <td>8.000000e+01</td>\n",
       "      <td>1.094000e+03</td>\n",
       "      <td>2.000000e+01</td>\n",
       "      <td>4.071000e+04</td>\n",
       "      <td>6.400000e+01</td>\n",
       "      <td>2.200000e+01</td>\n",
       "      <td>5.300000e+01</td>\n",
       "      <td>3.900000e+01</td>\n",
       "      <td>3.823000e+03</td>\n",
       "      <td>5.000000e+00</td>\n",
       "    </tr>\n",
       "  </tbody>\n",
       "</table>\n",
       "</div>"
      ],
      "text/plain": [
       "       walkDistance     killPlace        boosts  weaponsAcquired  \\\n",
       "count  4.446965e+06  4.446965e+06  4.446965e+06     4.446965e+06   \n",
       "mean   1.154218e+03  4.759936e+01  1.106908e+00     3.660488e+00   \n",
       "std    1.183497e+03  2.746293e+01  1.715794e+00     2.456543e+00   \n",
       "min    0.000000e+00  1.000000e+00  0.000000e+00     0.000000e+00   \n",
       "25%    1.551000e+02  2.400000e+01  0.000000e+00     2.000000e+00   \n",
       "50%    6.856000e+02  4.700000e+01  0.000000e+00     3.000000e+00   \n",
       "75%    1.976000e+03  7.100000e+01  2.000000e+00     5.000000e+00   \n",
       "max    2.578000e+04  1.010000e+02  3.300000e+01     2.360000e+02   \n",
       "\n",
       "        damageDealt         kills         heals   longestKill   killStreaks  \\\n",
       "count  4.446965e+06  4.446965e+06  4.446965e+06  4.446965e+06  4.446965e+06   \n",
       "mean   1.307172e+02  9.247835e-01  1.370148e+00  2.299760e+01  5.439553e-01   \n",
       "std    1.707806e+02  1.558445e+00  2.679982e+00  5.097262e+01  7.109721e-01   \n",
       "min    0.000000e+00  0.000000e+00  0.000000e+00  0.000000e+00  0.000000e+00   \n",
       "25%    0.000000e+00  0.000000e+00  0.000000e+00  0.000000e+00  0.000000e+00   \n",
       "50%    8.424000e+01  0.000000e+00  0.000000e+00  0.000000e+00  0.000000e+00   \n",
       "75%    1.860000e+02  1.000000e+00  2.000000e+00  2.132000e+01  1.000000e+00   \n",
       "max    6.616000e+03  7.200000e+01  8.000000e+01  1.094000e+03  2.000000e+01   \n",
       "\n",
       "       rideDistance  headshotKills       assists         DBNOs       revives  \\\n",
       "count  4.446965e+06   4.446965e+06  4.446965e+06  4.446965e+06  4.446965e+06   \n",
       "mean   6.061158e+02   2.268196e-01  2.338150e-01  6.578757e-01  1.646590e-01   \n",
       "std    1.498344e+03   6.021553e-01  5.885731e-01  1.145743e+00  4.721671e-01   \n",
       "min    0.000000e+00   0.000000e+00  0.000000e+00  0.000000e+00  0.000000e+00   \n",
       "25%    0.000000e+00   0.000000e+00  0.000000e+00  0.000000e+00  0.000000e+00   \n",
       "50%    0.000000e+00   0.000000e+00  0.000000e+00  0.000000e+00  0.000000e+00   \n",
       "75%    1.910000e-01   0.000000e+00  0.000000e+00  1.000000e+00  0.000000e+00   \n",
       "max    4.071000e+04   6.400000e+01  2.200000e+01  5.300000e+01  3.900000e+01   \n",
       "\n",
       "       swimDistance  vehicleDestroys  \n",
       "count  4.446965e+06     4.446965e+06  \n",
       "mean   4.509323e+00     7.918209e-03  \n",
       "std    3.050220e+01     9.261158e-02  \n",
       "min    0.000000e+00     0.000000e+00  \n",
       "25%    0.000000e+00     0.000000e+00  \n",
       "50%    0.000000e+00     0.000000e+00  \n",
       "75%    0.000000e+00     0.000000e+00  \n",
       "max    3.823000e+03     5.000000e+00  "
      ]
     },
     "execution_count": 12,
     "metadata": {},
     "output_type": "execute_result"
    }
   ],
   "source": [
    "train[features].describe()"
   ]
  },
  {
   "cell_type": "markdown",
   "metadata": {},
   "source": [
    "These features are huge, should scale them down"
   ]
  },
  {
   "cell_type": "code",
   "execution_count": 13,
   "metadata": {},
   "outputs": [],
   "source": [
    "#scale them down according to number of deviations away from the mean\n",
    "def scale_features(dataframe, features):\n",
    "    dataframe[features] = dataframe[features].apply(lambda x: (x - x.mean())/(x.std()))"
   ]
  },
  {
   "cell_type": "code",
   "execution_count": 14,
   "metadata": {},
   "outputs": [],
   "source": [
    "scale_these = ['assists', 'boosts', 'damageDealt', 'DBNOs', 'headshotKills',\n",
    "            'heals', 'killPlace', 'killPoints', 'kills', 'killStreaks',\n",
    "            'longestKill', 'matchDuration', 'maxPlace', 'numGroups', 'rankPoints',\n",
    "            'revives', 'rideDistance', 'roadKills', 'swimDistance', 'teamKills',\n",
    "            'vehicleDestroys', 'walkDistance', 'weaponsAcquired', 'winPoints',\n",
    "            'playersInMatch', 'rankPoints']\n",
    "\n",
    "scale_features(train, scale_these)"
   ]
  },
  {
   "cell_type": "markdown",
   "metadata": {},
   "source": [
    "# 3) First Model - Linear Model\n",
    "___"
   ]
  },
  {
   "cell_type": "code",
   "execution_count": 15,
   "metadata": {},
   "outputs": [
    {
     "name": "stdout",
     "output_type": "stream",
     "text": [
      "R2:  0.810954507250582\n",
      "MSE:  0.017643560793754343\n",
      "MAE:  0.09812643798358571\n"
     ]
    }
   ],
   "source": [
    "#----- Select Features -----\n",
    "#Start simple\n",
    "#Scatter plots show that the top 16 correlated features are quite linear:\n",
    "#Try a linear model with those features\n",
    "features = corrs_ranked.index.values[1:17]\n",
    "\n",
    "\n",
    "#----- Model --------\n",
    "#Simple linear SGD\n",
    "model = SGDRegressor(alpha=0.001, average=False,\n",
    "   epsilon=0.1, eta0=0.1, fit_intercept=True,\n",
    "   learning_rate='optimal', loss='squared_loss',\n",
    "   n_iter=None, penalty='l2', power_t=0.25,\n",
    "   random_state=0, shuffle=True, tol=None,\n",
    "   verbose=0, warm_start=False, max_iter=1000)\n",
    "\n",
    "\n",
    "#----- Train and Validate ------\n",
    "#start with a subset\n",
    "subset = train[features].head(10000)\n",
    "subset_targets = train[target].head(10000)\n",
    "\n",
    "#Use a simple 25% hold out for validation\n",
    "x_train, x_valid, y_train, y_valid = train_test_split(subset.values, \n",
    "                                                      subset_targets.values, test_size=0.25)  \n",
    "\n",
    "fitted = model.fit(x_train, y_train)\n",
    "y_valid_predict = fitted.predict(x_valid)\n",
    "print('R2: ', fitted.score(x_valid, y_valid))\n",
    "print('MSE: ', mean_squared_error(y_valid, y_valid_predict))\n",
    "print('MAE: ', mean_absolute_error(y_valid, y_valid_predict))"
   ]
  },
  {
   "cell_type": "markdown",
   "metadata": {},
   "source": [
    "Not bad! Let's see how it compares to a Random forest with all features"
   ]
  },
  {
   "cell_type": "markdown",
   "metadata": {},
   "source": [
    "# 4) Second Model - Random Forest\n",
    "---"
   ]
  },
  {
   "cell_type": "code",
   "execution_count": 16,
   "metadata": {},
   "outputs": [
    {
     "name": "stdout",
     "output_type": "stream",
     "text": [
      "R2:  0.8931518488538399\n",
      "MSE:  0.010037145182098306\n",
      "MAE:  0.06996748994454263\n"
     ]
    },
    {
     "name": "stderr",
     "output_type": "stream",
     "text": [
      "[Parallel(n_jobs=1)]: Done  26 out of  26 | elapsed:    1.4s finished\n",
      "[Parallel(n_jobs=1)]: Done  26 out of  26 | elapsed:    0.0s finished\n",
      "[Parallel(n_jobs=1)]: Done  26 out of  26 | elapsed:    0.0s finished\n"
     ]
    }
   ],
   "source": [
    "#----- Select Features\n",
    "features = corrs_ranked.index.values[1:]\n",
    "\n",
    "\n",
    "#----- Model\n",
    "#Lets see if we can imporve accuracy with a Random Forest regressor\n",
    "model = RandomForestRegressor(n_estimators=26, criterion='mse', verbose=1,\n",
    "                              oob_score=True, random_state=0, bootstrap=True, \n",
    "                              max_depth=None, max_features='auto', min_samples_leaf=2, \n",
    "                              min_samples_split=5\n",
    "                             )\n",
    "\n",
    "#----- Train and Validate\n",
    "#start with a subset\n",
    "subset = train[features].head(10000)\n",
    "subset_targets = train[target].head(10000)\n",
    "\n",
    "#Use a simple 25% hold out for validation\n",
    "x_train, x_valid, y_train, y_valid = train_test_split(subset.values, \n",
    "                                                      subset_targets.values, test_size=0.25)  \n",
    "\n",
    "fitted = model.fit(x_train, y_train)\n",
    "y_valid_predict = fitted.predict(x_valid)\n",
    "print('R2: ', fitted.score(x_valid, y_valid))\n",
    "print('MSE: ', mean_squared_error(y_valid, y_valid_predict))\n",
    "print('MAE: ', mean_absolute_error(y_valid, y_valid_predict))"
   ]
  },
  {
   "cell_type": "markdown",
   "metadata": {},
   "source": [
    "Quite a bit better!"
   ]
  }
 ],
 "metadata": {
  "kernelspec": {
   "display_name": "Python 3",
   "language": "python",
   "name": "python3"
  },
  "language_info": {
   "codemirror_mode": {
    "name": "ipython",
    "version": 3
   },
   "file_extension": ".py",
   "mimetype": "text/x-python",
   "name": "python",
   "nbconvert_exporter": "python",
   "pygments_lexer": "ipython3",
   "version": "3.6.4"
  }
 },
 "nbformat": 4,
 "nbformat_minor": 1
}
